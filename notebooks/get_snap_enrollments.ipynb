{
 "cells": [
  {
   "cell_type": "code",
   "execution_count": 8,
   "metadata": {},
   "outputs": [],
   "source": [
    "import pandas as pd\n",
    "import numpy as np\n",
    "import us"
   ]
  },
  {
   "cell_type": "code",
   "execution_count": 9,
   "metadata": {},
   "outputs": [],
   "source": [
    "def state_to_fips(state_name_or_abbreviation):\n",
    "    \"\"\"\n",
    "    Converts a US state name or abbreviation to its FIPS code.\n",
    "\n",
    "    Args:\n",
    "        state_name_or_abbreviation: The name or abbreviation of the state.\n",
    "\n",
    "    Returns:\n",
    "        The FIPS code of the state as a string, or None if not found.\n",
    "    \"\"\"\n",
    "    state = us.states.lookup(state_name_or_abbreviation)\n",
    "    if state:\n",
    "        return state.fips\n",
    "    else:\n",
    "        return None"
   ]
  },
  {
   "cell_type": "markdown",
   "metadata": {},
   "source": [
    "### Enrollment Data Cleaning"
   ]
  },
  {
   "cell_type": "code",
   "execution_count": 10,
   "metadata": {},
   "outputs": [],
   "source": [
    "def get_enrollments_for_year_xlsx(year: int):\n",
    "    \"\"\"\n",
    "    Creates a dataframe containing the total number of individuals enrolled in SNAP\n",
    "    statewide for the given year.  \n",
    "    Args:\n",
    "        year (int): an int from 20-24\n",
    "    \"\"\"\n",
    "    file_path_xlsx = f\"../data/state_snap_enrollments/original_data/FY{year}.xlsx\"\n",
    "\n",
    "    # Load the Excel file\n",
    "    xls_xlsx = pd.ExcelFile(file_path_xlsx)\n",
    "\n",
    "    total_state_enrollments = pd.DataFrame()\n",
    "\n",
    "    for sheet in xls_xlsx.sheet_names:\n",
    "        if sheet != \"US Summary\":\n",
    "            df = pd.read_excel(file_path_xlsx, sheet_name=sheet)\n",
    "            \n",
    "            totals_indices = df[df.columns[0]] == \"Total\"\n",
    "            totals = df[totals_indices][df.columns[2]].values\n",
    "\n",
    "            state_indices = np.roll(totals_indices, -13)\n",
    "            states = df[state_indices][df.columns[0]].values\n",
    "            \n",
    "            sheet_df = pd.DataFrame()\n",
    "            sheet_df[\"State\"] = states\n",
    "            sheet_df[\"Enrolled Individuals\"] = totals\n",
    "            \n",
    "            total_state_enrollments = pd.concat([total_state_enrollments, sheet_df])\n",
    "\n",
    "    total_state_enrollments[\"Year\"] = 2000 + year\n",
    "\n",
    "    total_state_enrollments[\"State\"] = total_state_enrollments[\"State\"].apply(state_to_fips)\n",
    "    total_state_enrollments.dropna(inplace = True)\n",
    "\n",
    "    return total_state_enrollments\n",
    "\n",
    "\n",
    "def get_enrollments_for_year_xls(year: int):\n",
    "    \"\"\"\n",
    "    Creates a dataframe containing the total number of individuals enrolled in SNAP\n",
    "    statewide for the given year.  \n",
    "    Args:\n",
    "        year (int): an int from 20-24\n",
    "    \"\"\"\n",
    "    if year < 10:\n",
    "        year_str = '0' + str(year)\n",
    "    else:\n",
    "        year_str = str(year)\n",
    "    file_path_xls = f\"../data/state_snap_enrollments/original_data/FY{year_str}.xls\"\n",
    "\n",
    "    # Load the Excel file\n",
    "    xls_xls = pd.ExcelFile(file_path_xls)\n",
    "\n",
    "    total_state_enrollments = pd.DataFrame()\n",
    "\n",
    "    for sheet in xls_xls.sheet_names:\n",
    "        if sheet != \"US Summary\":\n",
    "            df = pd.read_excel(file_path_xls, sheet_name=sheet)\n",
    "            #print(df)\n",
    "            \n",
    "            totals_indices = df[df.columns[0]] == \"Total\"\n",
    "            totals = df[totals_indices][df.columns[2]].values\n",
    "\n",
    "            state_indices = np.roll(totals_indices, -13)\n",
    "            states = df[state_indices][df.columns[0]].values\n",
    "            \n",
    "            sheet_df = pd.DataFrame()\n",
    "            sheet_df[\"State\"] = states\n",
    "            sheet_df[\"Enrolled Individuals\"] = totals\n",
    "            \n",
    "            total_state_enrollments = pd.concat([total_state_enrollments, sheet_df])\n",
    "\n",
    "    total_state_enrollments[\"Year\"] = 2000 + year\n",
    "\n",
    "    total_state_enrollments[\"State\"] = total_state_enrollments[\"State\"].apply(state_to_fips)\n",
    "    total_state_enrollments.dropna(inplace = True)\n",
    "\n",
    "    return total_state_enrollments"
   ]
  },
  {
   "cell_type": "code",
   "execution_count": 11,
   "metadata": {},
   "outputs": [],
   "source": [
    "total_enrollments = pd.DataFrame()\n",
    "\n",
    "for year in [5, 6, 7, 8, 9, 10, 11, 12, 13, 14, 15, 16, 17, 18, 19]:\n",
    "    year_enrollments = get_enrollments_for_year_xls(year)\n",
    "    total_enrollments = pd.concat([total_enrollments, year_enrollments])\n",
    "for year in [20, 21, 22, 23, 24]:\n",
    "    year_enrollments = get_enrollments_for_year_xlsx(year)\n",
    "    total_enrollments = pd.concat([total_enrollments, year_enrollments])"
   ]
  },
  {
   "cell_type": "code",
   "execution_count": 23,
   "metadata": {},
   "outputs": [],
   "source": [
    "total_enrollments = total_enrollments[~(total_enrollments['Enrolled Individuals'] == '--')]"
   ]
  },
  {
   "cell_type": "code",
   "execution_count": 24,
   "metadata": {},
   "outputs": [
    {
     "name": "stderr",
     "output_type": "stream",
     "text": [
      "/var/folders/m3/f23mtyd11999h6hwmgcqzz9c0000gn/T/ipykernel_50500/3392356296.py:1: SettingWithCopyWarning: \n",
      "A value is trying to be set on a copy of a slice from a DataFrame.\n",
      "Try using .loc[row_indexer,col_indexer] = value instead\n",
      "\n",
      "See the caveats in the documentation: https://pandas.pydata.org/pandas-docs/stable/user_guide/indexing.html#returning-a-view-versus-a-copy\n",
      "  total_enrollments['Enrolled Individuals'] = total_enrollments['Enrolled Individuals'].astype(float)\n"
     ]
    }
   ],
   "source": [
    "total_enrollments['Enrolled Individuals'] = total_enrollments['Enrolled Individuals'].astype(float)"
   ]
  },
  {
   "cell_type": "code",
   "execution_count": 25,
   "metadata": {},
   "outputs": [],
   "source": [
    "total_enrollments.to_csv(\"../data/state_snap_enrollments/cleaned_enrollments/2005-2024.csv\")"
   ]
  },
  {
   "cell_type": "code",
   "execution_count": null,
   "metadata": {},
   "outputs": [],
   "source": []
  }
 ],
 "metadata": {
  "kernelspec": {
   "display_name": ".venv",
   "language": "python",
   "name": "python3"
  },
  "language_info": {
   "codemirror_mode": {
    "name": "ipython",
    "version": 3
   },
   "file_extension": ".py",
   "mimetype": "text/x-python",
   "name": "python",
   "nbconvert_exporter": "python",
   "pygments_lexer": "ipython3",
   "version": "3.11.7"
  }
 },
 "nbformat": 4,
 "nbformat_minor": 2
}
